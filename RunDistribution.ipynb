{
 "cells": [
  {
   "cell_type": "markdown",
   "metadata": {},
   "source": [
    "# Run Distribution - CINCINNATI REDS"
   ]
  },
  {
   "cell_type": "markdown",
   "metadata": {},
   "source": [
    "Data are taken from 2018 National League"
   ]
  },
  {
   "cell_type": "code",
   "execution_count": 1,
   "metadata": {},
   "outputs": [
    {
     "name": "stdout",
     "output_type": "stream",
     "text": [
      "Populating the interactive namespace from numpy and matplotlib\n"
     ]
    }
   ],
   "source": [
    "%pylab inline"
   ]
  },
  {
   "cell_type": "markdown",
   "metadata": {},
   "source": [
    "The transition matrix P can be written with a block structure.\n",
    "We initialize these blocks."
   ]
  },
  {
   "cell_type": "code",
   "execution_count": 2,
   "metadata": {
    "collapsed": true
   },
   "outputs": [],
   "source": [
    "A = np.zeros((8,8))\n",
    "B = np.zeros((8,8))\n",
    "C = np.zeros((8,8))\n",
    "O = np.zeros((8,8))\n",
    "D = np.zeros((8,1))\n",
    "E = np.zeros((8,1))\n",
    "F = np.zeros((8,1))"
   ]
  },
  {
   "cell_type": "code",
   "execution_count": 3,
   "metadata": {
    "collapsed": true
   },
   "outputs": [],
   "source": [
    "p_s = 0.1570\n",
    "p_d = 0.0412\n",
    "p_t = 0.0041\n",
    "p_hr = 0.0282\n",
    "p_w = 0.0918\n",
    "p_out = 0.6777\n",
    "\n",
    "p_sw = p_s + p_w"
   ]
  },
  {
   "cell_type": "markdown",
   "metadata": {},
   "source": [
    "Let's check that the sum of these probabilities equals one"
   ]
  },
  {
   "cell_type": "code",
   "execution_count": 4,
   "metadata": {},
   "outputs": [
    {
     "data": {
      "text/plain": [
       "1.0"
      ]
     },
     "execution_count": 4,
     "metadata": {},
     "output_type": "execute_result"
    }
   ],
   "source": [
    "p_s+p_d+p_t+p_w+p_hr+p_out"
   ]
  },
  {
   "cell_type": "markdown",
   "metadata": {},
   "source": [
    "Filling the blocks with the estimated probabilities"
   ]
  },
  {
   "cell_type": "code",
   "execution_count": 5,
   "metadata": {
    "collapsed": true
   },
   "outputs": [],
   "source": [
    "for i in range(0,8):\n",
    "    A[i,0] = p_hr\n",
    "    A[i,3] = p_t\n",
    "    \n",
    "A[0,1] = A[1,4] = p_sw\n",
    "A[2,1] = A[3,1] = A[6,1] = A[4,4] = A[5,4] = A[7,4] = p_s\n",
    "A[0,2] = A[2,2] = A[3,2] = A[6,2] = A[1,6] = A[4,6] = A[5,6] = A[7,6] = p_d\n",
    "A[2,4] = A[3,5] = A[4,7] = A[5,7] = A[6,7] = A[7,7] = p_w\n",
    "    \n",
    "\n",
    "    \n",
    "for i in range(0,8):\n",
    "    B[i,i] = p_out\n",
    "\n",
    "for i in range(0,8):\n",
    "    F[i,0] = p_out"
   ]
  },
  {
   "cell_type": "code",
   "execution_count": 6,
   "metadata": {},
   "outputs": [
    {
     "name": "stdout",
     "output_type": "stream",
     "text": [
      "[[ 0.0282  0.2488  0.0412  0.0041  0.      0.      0.      0.    ]\n",
      " [ 0.0282  0.      0.      0.0041  0.2488  0.      0.0412  0.    ]\n",
      " [ 0.0282  0.157   0.0412  0.0041  0.0918  0.      0.      0.    ]\n",
      " [ 0.0282  0.157   0.0412  0.0041  0.      0.0918  0.      0.    ]\n",
      " [ 0.0282  0.      0.      0.0041  0.157   0.      0.0412  0.0918]\n",
      " [ 0.0282  0.      0.      0.0041  0.157   0.      0.0412  0.0918]\n",
      " [ 0.0282  0.157   0.0412  0.0041  0.      0.      0.      0.0918]\n",
      " [ 0.0282  0.      0.      0.0041  0.157   0.      0.0412  0.0918]]\n",
      "[[ 0.6777  0.      0.      0.      0.      0.      0.      0.    ]\n",
      " [ 0.      0.6777  0.      0.      0.      0.      0.      0.    ]\n",
      " [ 0.      0.      0.6777  0.      0.      0.      0.      0.    ]\n",
      " [ 0.      0.      0.      0.6777  0.      0.      0.      0.    ]\n",
      " [ 0.      0.      0.      0.      0.6777  0.      0.      0.    ]\n",
      " [ 0.      0.      0.      0.      0.      0.6777  0.      0.    ]\n",
      " [ 0.      0.      0.      0.      0.      0.      0.6777  0.    ]\n",
      " [ 0.      0.      0.      0.      0.      0.      0.      0.6777]]\n",
      "[[ 0.  0.  0.  0.  0.  0.  0.  0.]\n",
      " [ 0.  0.  0.  0.  0.  0.  0.  0.]\n",
      " [ 0.  0.  0.  0.  0.  0.  0.  0.]\n",
      " [ 0.  0.  0.  0.  0.  0.  0.  0.]\n",
      " [ 0.  0.  0.  0.  0.  0.  0.  0.]\n",
      " [ 0.  0.  0.  0.  0.  0.  0.  0.]\n",
      " [ 0.  0.  0.  0.  0.  0.  0.  0.]\n",
      " [ 0.  0.  0.  0.  0.  0.  0.  0.]]\n",
      "[[ 0.  0.  0.  0.  0.  0.  0.  0.]\n",
      " [ 0.  0.  0.  0.  0.  0.  0.  0.]\n",
      " [ 0.  0.  0.  0.  0.  0.  0.  0.]\n",
      " [ 0.  0.  0.  0.  0.  0.  0.  0.]\n",
      " [ 0.  0.  0.  0.  0.  0.  0.  0.]\n",
      " [ 0.  0.  0.  0.  0.  0.  0.  0.]\n",
      " [ 0.  0.  0.  0.  0.  0.  0.  0.]\n",
      " [ 0.  0.  0.  0.  0.  0.  0.  0.]]\n",
      "[[ 0.]\n",
      " [ 0.]\n",
      " [ 0.]\n",
      " [ 0.]\n",
      " [ 0.]\n",
      " [ 0.]\n",
      " [ 0.]\n",
      " [ 0.]]\n",
      "[[ 0.]\n",
      " [ 0.]\n",
      " [ 0.]\n",
      " [ 0.]\n",
      " [ 0.]\n",
      " [ 0.]\n",
      " [ 0.]\n",
      " [ 0.]]\n",
      "[[ 0.6777]\n",
      " [ 0.6777]\n",
      " [ 0.6777]\n",
      " [ 0.6777]\n",
      " [ 0.6777]\n",
      " [ 0.6777]\n",
      " [ 0.6777]\n",
      " [ 0.6777]]\n"
     ]
    }
   ],
   "source": [
    "print(A)\n",
    "print(B)\n",
    "print(C)\n",
    "print(O)\n",
    "print(D)\n",
    "print(E)\n",
    "print(F)"
   ]
  },
  {
   "cell_type": "markdown",
   "metadata": {},
   "source": [
    "Building P"
   ]
  },
  {
   "cell_type": "code",
   "execution_count": 7,
   "metadata": {},
   "outputs": [
    {
     "name": "stdout",
     "output_type": "stream",
     "text": [
      "[[ 0.0282  0.2488  0.0412  0.0041  0.      0.      0.      0.      0.6777\n",
      "   0.      0.      0.      0.      0.      0.      0.      0.      0.      0.\n",
      "   0.      0.      0.      0.      0.      0.    ]\n",
      " [ 0.0282  0.      0.      0.0041  0.2488  0.      0.0412  0.      0.\n",
      "   0.6777  0.      0.      0.      0.      0.      0.      0.      0.      0.\n",
      "   0.      0.      0.      0.      0.      0.    ]\n",
      " [ 0.0282  0.157   0.0412  0.0041  0.0918  0.      0.      0.      0.      0.\n",
      "   0.6777  0.      0.      0.      0.      0.      0.      0.      0.      0.\n",
      "   0.      0.      0.      0.      0.    ]\n",
      " [ 0.0282  0.157   0.0412  0.0041  0.      0.0918  0.      0.      0.      0.\n",
      "   0.      0.6777  0.      0.      0.      0.      0.      0.      0.      0.\n",
      "   0.      0.      0.      0.      0.    ]\n",
      " [ 0.0282  0.      0.      0.0041  0.157   0.      0.0412  0.0918  0.      0.\n",
      "   0.      0.      0.6777  0.      0.      0.      0.      0.      0.      0.\n",
      "   0.      0.      0.      0.      0.    ]\n",
      " [ 0.0282  0.      0.      0.0041  0.157   0.      0.0412  0.0918  0.      0.\n",
      "   0.      0.      0.      0.6777  0.      0.      0.      0.      0.      0.\n",
      "   0.      0.      0.      0.      0.    ]\n",
      " [ 0.0282  0.157   0.0412  0.0041  0.      0.      0.      0.0918  0.      0.\n",
      "   0.      0.      0.      0.      0.6777  0.      0.      0.      0.      0.\n",
      "   0.      0.      0.      0.      0.    ]\n",
      " [ 0.0282  0.      0.      0.0041  0.157   0.      0.0412  0.0918  0.      0.\n",
      "   0.      0.      0.      0.      0.      0.6777  0.      0.      0.      0.\n",
      "   0.      0.      0.      0.      0.    ]\n",
      " [ 0.      0.      0.      0.      0.      0.      0.      0.      0.0282\n",
      "   0.2488  0.0412  0.0041  0.      0.      0.      0.      0.6777  0.      0.\n",
      "   0.      0.      0.      0.      0.      0.    ]\n",
      " [ 0.      0.      0.      0.      0.      0.      0.      0.      0.0282\n",
      "   0.      0.      0.0041  0.2488  0.      0.0412  0.      0.      0.6777\n",
      "   0.      0.      0.      0.      0.      0.      0.    ]\n",
      " [ 0.      0.      0.      0.      0.      0.      0.      0.      0.0282\n",
      "   0.157   0.0412  0.0041  0.0918  0.      0.      0.      0.      0.\n",
      "   0.6777  0.      0.      0.      0.      0.      0.    ]\n",
      " [ 0.      0.      0.      0.      0.      0.      0.      0.      0.0282\n",
      "   0.157   0.0412  0.0041  0.      0.0918  0.      0.      0.      0.      0.\n",
      "   0.6777  0.      0.      0.      0.      0.    ]\n",
      " [ 0.      0.      0.      0.      0.      0.      0.      0.      0.0282\n",
      "   0.      0.      0.0041  0.157   0.      0.0412  0.0918  0.      0.      0.\n",
      "   0.      0.6777  0.      0.      0.      0.    ]\n",
      " [ 0.      0.      0.      0.      0.      0.      0.      0.      0.0282\n",
      "   0.      0.      0.0041  0.157   0.      0.0412  0.0918  0.      0.      0.\n",
      "   0.      0.      0.6777  0.      0.      0.    ]\n",
      " [ 0.      0.      0.      0.      0.      0.      0.      0.      0.0282\n",
      "   0.157   0.0412  0.0041  0.      0.      0.      0.0918  0.      0.      0.\n",
      "   0.      0.      0.      0.6777  0.      0.    ]\n",
      " [ 0.      0.      0.      0.      0.      0.      0.      0.      0.0282\n",
      "   0.      0.      0.0041  0.157   0.      0.0412  0.0918  0.      0.      0.\n",
      "   0.      0.      0.      0.      0.6777  0.    ]\n",
      " [ 0.      0.      0.      0.      0.      0.      0.      0.      0.      0.\n",
      "   0.      0.      0.      0.      0.      0.      0.0282  0.2488  0.0412\n",
      "   0.0041  0.      0.      0.      0.      0.6777]\n",
      " [ 0.      0.      0.      0.      0.      0.      0.      0.      0.      0.\n",
      "   0.      0.      0.      0.      0.      0.      0.0282  0.      0.\n",
      "   0.0041  0.2488  0.      0.0412  0.      0.6777]\n",
      " [ 0.      0.      0.      0.      0.      0.      0.      0.      0.      0.\n",
      "   0.      0.      0.      0.      0.      0.      0.0282  0.157   0.0412\n",
      "   0.0041  0.0918  0.      0.      0.      0.6777]\n",
      " [ 0.      0.      0.      0.      0.      0.      0.      0.      0.      0.\n",
      "   0.      0.      0.      0.      0.      0.      0.0282  0.157   0.0412\n",
      "   0.0041  0.      0.0918  0.      0.      0.6777]\n",
      " [ 0.      0.      0.      0.      0.      0.      0.      0.      0.      0.\n",
      "   0.      0.      0.      0.      0.      0.      0.0282  0.      0.\n",
      "   0.0041  0.157   0.      0.0412  0.0918  0.6777]\n",
      " [ 0.      0.      0.      0.      0.      0.      0.      0.      0.      0.\n",
      "   0.      0.      0.      0.      0.      0.      0.0282  0.      0.\n",
      "   0.0041  0.157   0.      0.0412  0.0918  0.6777]\n",
      " [ 0.      0.      0.      0.      0.      0.      0.      0.      0.      0.\n",
      "   0.      0.      0.      0.      0.      0.      0.0282  0.157   0.0412\n",
      "   0.0041  0.      0.      0.      0.0918  0.6777]\n",
      " [ 0.      0.      0.      0.      0.      0.      0.      0.      0.      0.\n",
      "   0.      0.      0.      0.      0.      0.      0.0282  0.      0.\n",
      "   0.0041  0.157   0.      0.0412  0.0918  0.6777]\n",
      " [ 0.      0.      0.      0.      0.      0.      0.      0.      0.      0.\n",
      "   0.      0.      0.      0.      0.      0.      0.      0.      0.      0.\n",
      "   0.      0.      0.      0.      1.    ]]\n"
     ]
    }
   ],
   "source": [
    "P = np.block([[A,B,C,D],[O,A,B,E],[O,O,A,F],[np.zeros((1,24)),1]])\n",
    "print(P)"
   ]
  },
  {
   "cell_type": "markdown",
   "metadata": {},
   "source": [
    "Making P stochastic"
   ]
  },
  {
   "cell_type": "code",
   "execution_count": 8,
   "metadata": {
    "collapsed": true
   },
   "outputs": [],
   "source": [
    "for i in range (0,25):\n",
    "    my_sum = sum(P[i])\n",
    "    for j in range (0,25):\n",
    "        P[i,j] = P[i,j]/my_sum"
   ]
  },
  {
   "cell_type": "markdown",
   "metadata": {},
   "source": [
    "Checking for correctness"
   ]
  },
  {
   "cell_type": "code",
   "execution_count": 9,
   "metadata": {},
   "outputs": [
    {
     "name": "stdout",
     "output_type": "stream",
     "text": [
      "1.0\n",
      "1.0\n",
      "1.0\n",
      "1.0\n",
      "1.0\n",
      "1.0\n",
      "1.0\n",
      "1.0\n",
      "1.0\n",
      "1.0\n",
      "1.0\n",
      "1.0\n",
      "1.0\n",
      "1.0\n",
      "1.0\n",
      "1.0\n",
      "1.0\n",
      "1.0\n",
      "1.0\n",
      "1.0\n",
      "1.0\n",
      "1.0\n",
      "1.0\n",
      "1.0\n"
     ]
    }
   ],
   "source": [
    "for i in range(0,24):\n",
    "    print(sum(P[i]))"
   ]
  },
  {
   "cell_type": "markdown",
   "metadata": {},
   "source": [
    "Building the R matrices (storing the number of runs scored via each transition)"
   ]
  },
  {
   "cell_type": "code",
   "execution_count": 10,
   "metadata": {
    "collapsed": true
   },
   "outputs": [],
   "source": [
    "R_A = np.zeros((8,8),int)\n",
    "R_B = np.zeros((8,8),int)\n",
    "R_C = np.zeros((8,8),int)\n",
    "R_O = np.zeros((8,8),int)\n",
    "R_D = np.zeros((8,1),int)\n",
    "R_E = np.zeros((8,1),int)\n",
    "R_F = np.zeros((8,1),int)"
   ]
  },
  {
   "cell_type": "code",
   "execution_count": 11,
   "metadata": {
    "collapsed": true
   },
   "outputs": [],
   "source": [
    "R_A[0,0] = 1\n",
    "for i in range(1,4):\n",
    "    R_A[i,0] = 2\n",
    "for i in range(4,8):\n",
    "    R_A[i,0] = 3\n",
    "R_A[7,0] = 4\n",
    "for i in range(1,4):\n",
    "    R_A[1,i] = 1\n",
    "    R_A[2,i] = 1\n",
    "    R_A[3,i] = 1\n",
    "    R_A[4,i] = 2\n",
    "    R_A[5,i] = 2\n",
    "    R_A[6,i] = 2\n",
    "    R_A[7,i] = 3\n",
    "for i in range(4,7):\n",
    "    R_A[4,i] = 1\n",
    "    R_A[5,i] = 1\n",
    "    R_A[6,i] = 1\n",
    "    R_A[7,i] = 2\n",
    "R_A[7,7] = 1\n",
    "\n",
    "\n",
    "for i in range(1,4):\n",
    "    R_B[i,0] = 1\n",
    "for i in range(4,8):\n",
    "    R_B[i,0] = 2\n",
    "R_B[7,0]=3\n",
    "for i in range(1,4):\n",
    "    R_B[4,i] = 1\n",
    "    R_B[5,i] = 1\n",
    "    R_B[6,i] = 1\n",
    "    R_B[7,i] = 2\n",
    "for i in range(4,7):\n",
    "    R_B[7,i] = 1\n",
    "\n",
    "    \n",
    "for i in range(4,7):\n",
    "    R_C[i,0] = 1\n",
    "for i in range(1,4):\n",
    "    R_C[7,i] = 1\n",
    "R_C[7,0] = 2"
   ]
  },
  {
   "cell_type": "code",
   "execution_count": 12,
   "metadata": {},
   "outputs": [
    {
     "name": "stdout",
     "output_type": "stream",
     "text": [
      "[[1 0 0 0 0 0 0 0]\n",
      " [2 1 1 1 0 0 0 0]\n",
      " [2 1 1 1 0 0 0 0]\n",
      " [2 1 1 1 0 0 0 0]\n",
      " [3 2 2 2 1 1 1 0]\n",
      " [3 2 2 2 1 1 1 0]\n",
      " [3 2 2 2 1 1 1 0]\n",
      " [4 3 3 3 2 2 2 1]]\n",
      "[[0 0 0 0 0 0 0 0]\n",
      " [1 0 0 0 0 0 0 0]\n",
      " [1 0 0 0 0 0 0 0]\n",
      " [1 0 0 0 0 0 0 0]\n",
      " [2 1 1 1 0 0 0 0]\n",
      " [2 1 1 1 0 0 0 0]\n",
      " [2 1 1 1 0 0 0 0]\n",
      " [3 2 2 2 1 1 1 0]]\n",
      "[[0 0 0 0 0 0 0 0]\n",
      " [0 0 0 0 0 0 0 0]\n",
      " [0 0 0 0 0 0 0 0]\n",
      " [0 0 0 0 0 0 0 0]\n",
      " [1 0 0 0 0 0 0 0]\n",
      " [1 0 0 0 0 0 0 0]\n",
      " [1 0 0 0 0 0 0 0]\n",
      " [2 1 1 1 0 0 0 0]]\n"
     ]
    }
   ],
   "source": [
    "print(R_A)\n",
    "print(R_B)\n",
    "print(R_C)"
   ]
  },
  {
   "cell_type": "markdown",
   "metadata": {},
   "source": [
    "Building R"
   ]
  },
  {
   "cell_type": "code",
   "execution_count": 13,
   "metadata": {
    "scrolled": true
   },
   "outputs": [
    {
     "name": "stdout",
     "output_type": "stream",
     "text": [
      "[[1 0 0 0 0 0 0 0 0 0 0 0 0 0 0 0 0 0 0 0 0 0 0 0 0]\n",
      " [2 1 1 1 0 0 0 0 1 0 0 0 0 0 0 0 0 0 0 0 0 0 0 0 0]\n",
      " [2 1 1 1 0 0 0 0 1 0 0 0 0 0 0 0 0 0 0 0 0 0 0 0 0]\n",
      " [2 1 1 1 0 0 0 0 1 0 0 0 0 0 0 0 0 0 0 0 0 0 0 0 0]\n",
      " [3 2 2 2 1 1 1 0 2 1 1 1 0 0 0 0 1 0 0 0 0 0 0 0 0]\n",
      " [3 2 2 2 1 1 1 0 2 1 1 1 0 0 0 0 1 0 0 0 0 0 0 0 0]\n",
      " [3 2 2 2 1 1 1 0 2 1 1 1 0 0 0 0 1 0 0 0 0 0 0 0 0]\n",
      " [4 3 3 3 2 2 2 1 3 2 2 2 1 1 1 0 2 1 1 1 0 0 0 0 0]\n",
      " [0 0 0 0 0 0 0 0 1 0 0 0 0 0 0 0 0 0 0 0 0 0 0 0 0]\n",
      " [0 0 0 0 0 0 0 0 2 1 1 1 0 0 0 0 1 0 0 0 0 0 0 0 0]\n",
      " [0 0 0 0 0 0 0 0 2 1 1 1 0 0 0 0 1 0 0 0 0 0 0 0 0]\n",
      " [0 0 0 0 0 0 0 0 2 1 1 1 0 0 0 0 1 0 0 0 0 0 0 0 0]\n",
      " [0 0 0 0 0 0 0 0 3 2 2 2 1 1 1 0 2 1 1 1 0 0 0 0 0]\n",
      " [0 0 0 0 0 0 0 0 3 2 2 2 1 1 1 0 2 1 1 1 0 0 0 0 0]\n",
      " [0 0 0 0 0 0 0 0 3 2 2 2 1 1 1 0 2 1 1 1 0 0 0 0 0]\n",
      " [0 0 0 0 0 0 0 0 4 3 3 3 2 2 2 1 3 2 2 2 1 1 1 0 0]\n",
      " [0 0 0 0 0 0 0 0 0 0 0 0 0 0 0 0 1 0 0 0 0 0 0 0 0]\n",
      " [0 0 0 0 0 0 0 0 0 0 0 0 0 0 0 0 2 1 1 1 0 0 0 0 0]\n",
      " [0 0 0 0 0 0 0 0 0 0 0 0 0 0 0 0 2 1 1 1 0 0 0 0 0]\n",
      " [0 0 0 0 0 0 0 0 0 0 0 0 0 0 0 0 2 1 1 1 0 0 0 0 0]\n",
      " [0 0 0 0 0 0 0 0 0 0 0 0 0 0 0 0 3 2 2 2 1 1 1 0 0]\n",
      " [0 0 0 0 0 0 0 0 0 0 0 0 0 0 0 0 3 2 2 2 1 1 1 0 0]\n",
      " [0 0 0 0 0 0 0 0 0 0 0 0 0 0 0 0 3 2 2 2 1 1 1 0 0]\n",
      " [0 0 0 0 0 0 0 0 0 0 0 0 0 0 0 0 4 3 3 3 2 2 2 1 0]\n",
      " [0 0 0 0 0 0 0 0 0 0 0 0 0 0 0 0 0 0 0 0 0 0 0 0 0]]\n"
     ]
    }
   ],
   "source": [
    "R = np.block([[R_A,R_B,R_C,R_D],[R_O,R_A,R_B,R_E],[R_O,R_O,R_A,R_F],[np.zeros((1,24),int),0]])\n",
    "print(R)"
   ]
  },
  {
   "cell_type": "markdown",
   "metadata": {},
   "source": [
    "Building the scoring matrices"
   ]
  },
  {
   "cell_type": "code",
   "execution_count": 14,
   "metadata": {
    "collapsed": true
   },
   "outputs": [],
   "source": [
    "P1 = np.zeros((25,25))\n",
    "P2 = np.zeros((25,25))\n",
    "P3 = np.zeros((25,25))\n",
    "P4 = np.zeros((25,25))"
   ]
  },
  {
   "cell_type": "code",
   "execution_count": 15,
   "metadata": {
    "collapsed": true
   },
   "outputs": [],
   "source": [
    "for i in range (0,25):\n",
    "    for j in range (0,25):\n",
    "        if R[i,j] == 1:\n",
    "            P1[i,j] = P[i,j]\n",
    "\n",
    "for i in range (0,25):\n",
    "    for j in range (0,25):\n",
    "        if R[i,j] == 2:\n",
    "            P2[i,j] = P[i,j]\n",
    "\n",
    "for i in range (0,25):\n",
    "    for j in range (0,25):\n",
    "        if R[i,j] == 3:\n",
    "            P3[i,j] = P[i,j]\n",
    "            \n",
    "for i in range (0,25):\n",
    "    for j in range (0,25):\n",
    "        if R[i,j] == 4:\n",
    "            P4[i,j] = P[i,j]\n",
    "    \n",
    "P0 = P-(P1+P2+P3+P4)\n",
    "\n",
    "PP = P0+P1+P2+P3+P4"
   ]
  },
  {
   "cell_type": "markdown",
   "metadata": {},
   "source": [
    "Checking for correctness"
   ]
  },
  {
   "cell_type": "code",
   "execution_count": 16,
   "metadata": {},
   "outputs": [
    {
     "data": {
      "text/plain": [
       "array([[ True,  True,  True,  True,  True,  True,  True,  True,  True,\n",
       "         True,  True,  True,  True,  True,  True,  True,  True,  True,\n",
       "         True,  True,  True,  True,  True,  True,  True],\n",
       "       [ True,  True,  True,  True,  True,  True,  True,  True,  True,\n",
       "         True,  True,  True,  True,  True,  True,  True,  True,  True,\n",
       "         True,  True,  True,  True,  True,  True,  True],\n",
       "       [ True,  True,  True,  True,  True,  True,  True,  True,  True,\n",
       "         True,  True,  True,  True,  True,  True,  True,  True,  True,\n",
       "         True,  True,  True,  True,  True,  True,  True],\n",
       "       [ True,  True,  True,  True,  True,  True,  True,  True,  True,\n",
       "         True,  True,  True,  True,  True,  True,  True,  True,  True,\n",
       "         True,  True,  True,  True,  True,  True,  True],\n",
       "       [ True,  True,  True,  True,  True,  True,  True,  True,  True,\n",
       "         True,  True,  True,  True,  True,  True,  True,  True,  True,\n",
       "         True,  True,  True,  True,  True,  True,  True],\n",
       "       [ True,  True,  True,  True,  True,  True,  True,  True,  True,\n",
       "         True,  True,  True,  True,  True,  True,  True,  True,  True,\n",
       "         True,  True,  True,  True,  True,  True,  True],\n",
       "       [ True,  True,  True,  True,  True,  True,  True,  True,  True,\n",
       "         True,  True,  True,  True,  True,  True,  True,  True,  True,\n",
       "         True,  True,  True,  True,  True,  True,  True],\n",
       "       [ True,  True,  True,  True,  True,  True,  True,  True,  True,\n",
       "         True,  True,  True,  True,  True,  True,  True,  True,  True,\n",
       "         True,  True,  True,  True,  True,  True,  True],\n",
       "       [ True,  True,  True,  True,  True,  True,  True,  True,  True,\n",
       "         True,  True,  True,  True,  True,  True,  True,  True,  True,\n",
       "         True,  True,  True,  True,  True,  True,  True],\n",
       "       [ True,  True,  True,  True,  True,  True,  True,  True,  True,\n",
       "         True,  True,  True,  True,  True,  True,  True,  True,  True,\n",
       "         True,  True,  True,  True,  True,  True,  True],\n",
       "       [ True,  True,  True,  True,  True,  True,  True,  True,  True,\n",
       "         True,  True,  True,  True,  True,  True,  True,  True,  True,\n",
       "         True,  True,  True,  True,  True,  True,  True],\n",
       "       [ True,  True,  True,  True,  True,  True,  True,  True,  True,\n",
       "         True,  True,  True,  True,  True,  True,  True,  True,  True,\n",
       "         True,  True,  True,  True,  True,  True,  True],\n",
       "       [ True,  True,  True,  True,  True,  True,  True,  True,  True,\n",
       "         True,  True,  True,  True,  True,  True,  True,  True,  True,\n",
       "         True,  True,  True,  True,  True,  True,  True],\n",
       "       [ True,  True,  True,  True,  True,  True,  True,  True,  True,\n",
       "         True,  True,  True,  True,  True,  True,  True,  True,  True,\n",
       "         True,  True,  True,  True,  True,  True,  True],\n",
       "       [ True,  True,  True,  True,  True,  True,  True,  True,  True,\n",
       "         True,  True,  True,  True,  True,  True,  True,  True,  True,\n",
       "         True,  True,  True,  True,  True,  True,  True],\n",
       "       [ True,  True,  True,  True,  True,  True,  True,  True,  True,\n",
       "         True,  True,  True,  True,  True,  True,  True,  True,  True,\n",
       "         True,  True,  True,  True,  True,  True,  True],\n",
       "       [ True,  True,  True,  True,  True,  True,  True,  True,  True,\n",
       "         True,  True,  True,  True,  True,  True,  True,  True,  True,\n",
       "         True,  True,  True,  True,  True,  True,  True],\n",
       "       [ True,  True,  True,  True,  True,  True,  True,  True,  True,\n",
       "         True,  True,  True,  True,  True,  True,  True,  True,  True,\n",
       "         True,  True,  True,  True,  True,  True,  True],\n",
       "       [ True,  True,  True,  True,  True,  True,  True,  True,  True,\n",
       "         True,  True,  True,  True,  True,  True,  True,  True,  True,\n",
       "         True,  True,  True,  True,  True,  True,  True],\n",
       "       [ True,  True,  True,  True,  True,  True,  True,  True,  True,\n",
       "         True,  True,  True,  True,  True,  True,  True,  True,  True,\n",
       "         True,  True,  True,  True,  True,  True,  True],\n",
       "       [ True,  True,  True,  True,  True,  True,  True,  True,  True,\n",
       "         True,  True,  True,  True,  True,  True,  True,  True,  True,\n",
       "         True,  True,  True,  True,  True,  True,  True],\n",
       "       [ True,  True,  True,  True,  True,  True,  True,  True,  True,\n",
       "         True,  True,  True,  True,  True,  True,  True,  True,  True,\n",
       "         True,  True,  True,  True,  True,  True,  True],\n",
       "       [ True,  True,  True,  True,  True,  True,  True,  True,  True,\n",
       "         True,  True,  True,  True,  True,  True,  True,  True,  True,\n",
       "         True,  True,  True,  True,  True,  True,  True],\n",
       "       [ True,  True,  True,  True,  True,  True,  True,  True,  True,\n",
       "         True,  True,  True,  True,  True,  True,  True,  True,  True,\n",
       "         True,  True,  True,  True,  True,  True,  True],\n",
       "       [ True,  True,  True,  True,  True,  True,  True,  True,  True,\n",
       "         True,  True,  True,  True,  True,  True,  True,  True,  True,\n",
       "         True,  True,  True,  True,  True,  True,  True]], dtype=bool)"
      ]
     },
     "execution_count": 16,
     "metadata": {},
     "output_type": "execute_result"
    }
   ],
   "source": [
    "#print(P0)\n",
    "#print(P1)\n",
    "#print(P2)\n",
    "#print(P3)\n",
    "#print(P4)\n",
    "#print(PP)\n",
    "P==PP"
   ]
  },
  {
   "cell_type": "markdown",
   "metadata": {},
   "source": [
    "Building and initializing U"
   ]
  },
  {
   "cell_type": "code",
   "execution_count": 17,
   "metadata": {
    "collapsed": true
   },
   "outputs": [],
   "source": [
    "U = np.zeros((21,25))\n",
    "U[0,0] = 1\n",
    "#print(U)"
   ]
  },
  {
   "cell_type": "markdown",
   "metadata": {},
   "source": [
    "We define a tolerance. The algortihm stops when the sum of the final column of U is within tol of 1."
   ]
  },
  {
   "cell_type": "code",
   "execution_count": 18,
   "metadata": {
    "collapsed": true
   },
   "outputs": [],
   "source": [
    "tol = 0.0001"
   ]
  },
  {
   "cell_type": "code",
   "execution_count": 19,
   "metadata": {
    "collapsed": true
   },
   "outputs": [],
   "source": [
    "def update_matrix(W):\n",
    "    \n",
    "    temp = np.zeros((21,25))\n",
    "    \n",
    "    for row in range (0,21):\n",
    "        if row == 0:\n",
    "            temp[row] = np.matmul(W[row],P0)\n",
    "        if row == 1:\n",
    "            temp[row] = np.matmul(W[row],P0) + np.matmul(W[row-1],P1)\n",
    "        if row == 2:\n",
    "            temp[row] = np.matmul(W[row],P0) + np.matmul(W[row-1],P1) + np.matmul(W[row-2],P2)\n",
    "        if row == 3:\n",
    "            temp[row] = np.matmul(W[row],P0) + np.matmul(W[row-1],P1) + np.matmul(W[row-2],P2) + np.matmul(W[row-3],P3)\n",
    "        else:\n",
    "            temp[row] = np.matmul(W[row],P0) + np.matmul(W[row-1],P1) + np.matmul(W[row-2],P2) + np.matmul(W[row-3],P3) + np.matmul(W[row-4],P4)\n",
    "    \n",
    "    W = temp\n",
    "    \n",
    "    return W"
   ]
  },
  {
   "cell_type": "markdown",
   "metadata": {},
   "source": [
    "Iterating until the stopping criterion is reached"
   ]
  },
  {
   "cell_type": "code",
   "execution_count": 20,
   "metadata": {},
   "outputs": [
    {
     "name": "stdout",
     "output_type": "stream",
     "text": [
      "0.9999435178\n"
     ]
    }
   ],
   "source": [
    "while (sum(U[:,24]) < 1-tol):\n",
    "    U = update_matrix(U)\n",
    "\n",
    "print(sum(U[:,24]))"
   ]
  },
  {
   "cell_type": "markdown",
   "metadata": {},
   "source": [
    "We extract the final column of U: this will give us the single-inning **run distribution**"
   ]
  },
  {
   "cell_type": "code",
   "execution_count": 21,
   "metadata": {},
   "outputs": [
    {
     "data": {
      "text/plain": [
       "array([  7.50185178e-01,   1.26128828e-01,   6.67342690e-02,\n",
       "         3.20658867e-02,   1.44307299e-02,   6.19456054e-03,\n",
       "         2.56599991e-03,   1.03377863e-03,   4.07304925e-04,\n",
       "         1.50127533e-04,   3.85740110e-05,   8.28055075e-06,\n",
       "         0.00000000e+00,   0.00000000e+00,   0.00000000e+00,\n",
       "         0.00000000e+00,   0.00000000e+00,   0.00000000e+00,\n",
       "         0.00000000e+00,   0.00000000e+00,   0.00000000e+00])"
      ]
     },
     "execution_count": 21,
     "metadata": {},
     "output_type": "execute_result"
    }
   ],
   "source": [
    "U[:,24]"
   ]
  },
  {
   "cell_type": "code",
   "execution_count": 22,
   "metadata": {},
   "outputs": [
    {
     "name": "stdout",
     "output_type": "stream",
     "text": [
      "[ 0  1  2  3  4  5  6  7  8  9 10 11 12 13 14 15 16 17 18 19 20]\n"
     ]
    }
   ],
   "source": [
    "runs = linspace(0,20,21,dtype=int)\n",
    "print(runs)"
   ]
  },
  {
   "cell_type": "code",
   "execution_count": 23,
   "metadata": {},
   "outputs": [
    {
     "data": {
      "image/png": "[encoded data removed]",
      "text/plain": [
       "<matplotlib.figure.Figure at 0x7f9e0db49080>"
      ]
     },
     "metadata": {},
     "output_type": "display_data"
    }
   ],
   "source": [
    "plot(runs, U[:,24])\n",
    "_ = title(\"\\nSingle-inning run distribution\\n\")"
   ]
  },
  {
   "cell_type": "markdown",
   "metadata": {},
   "source": [
    "Computing the expected number of runs scored during an inning"
   ]
  },
  {
   "cell_type": "code",
   "execution_count": 24,
   "metadata": {},
   "outputs": [
    {
     "name": "stdout",
     "output_type": "stream",
     "text": [
      "[  0.00000000e+00   1.26128828e-01   1.33468538e-01   9.61976602e-02\n",
      "   5.77229198e-02   3.09728027e-02   1.53959995e-02   7.23645039e-03\n",
      "   3.25843940e-03   1.35114779e-03   3.85740110e-04   9.10860582e-05\n",
      "   0.00000000e+00   0.00000000e+00   0.00000000e+00   0.00000000e+00\n",
      "   0.00000000e+00   0.00000000e+00   0.00000000e+00   0.00000000e+00\n",
      "   0.00000000e+00]\n",
      "\n",
      "Expected number of runs: \n",
      "0.472209612355\n"
     ]
    }
   ],
   "source": [
    "UU = U[:,24]\n",
    "for i in range (0,21):\n",
    "    UU[i] = UU[i]*i\n",
    "    \n",
    "print(UU)\n",
    "print(\"\\nExpected number of runs: \")\n",
    "print(sum(UU))"
   ]
  }
 ],
 "metadata": {
  "kernelspec": {
   "display_name": "Python 3",
   "language": "python",
   "name": "python3"
  },
  "language_info": {
   "codemirror_mode": {
    "name": "ipython",
    "version": 3
   },
   "file_extension": ".py",
   "mimetype": "text/x-python",
   "name": "python",
   "nbconvert_exporter": "python",
   "pygments_lexer": "ipython3",
   "version": "3.6.3"
  }
 },
 "nbformat": 4,
 "nbformat_minor": 2
}
